{
 "cells": [
  {
   "cell_type": "markdown",
   "id": "0867e777-214d-4367-86c9-b18016cba377",
   "metadata": {},
   "source": [
    "# Data Science Tools and Ecosystem"
   ]
  },
  {
   "cell_type": "markdown",
   "id": "20e3892a-c0ec-4414-b55a-e4224aff6ccc",
   "metadata": {},
   "source": [
    "In this notebook, Data Science Tools and Ecosystem are summarized."
   ]
  },
  {
   "cell_type": "markdown",
   "id": "22d090a7-388f-4262-80d9-7867dfe9b8d9",
   "metadata": {},
   "source": [
    "**Objectives:**\n",
    "- List popular languges for Data Science\n",
    "- List commonly ueed Libraries in Data Science\n",
    "- Create table of Data Science Tools\n",
    "- Show example of arithmatic expression\n",
    "- Convert minutes into hours"
   ]
  },
  {
   "cell_type": "markdown",
   "id": "c2482d91-5806-4f60-bad2-04804c5813e9",
   "metadata": {},
   "source": [
    "Some of the popular languages that Data Scientists use are:"
   ]
  },
  {
   "cell_type": "markdown",
   "id": "8a47450a-628a-4476-b92e-a53e77073bb4",
   "metadata": {},
   "source": [
    "1.Phython\n",
    "\n",
    "2.R\n",
    "\n",
    "3.Sql\n",
    "\n",
    "4.Java\n",
    "\n",
    "5.scala"
   ]
  },
  {
   "cell_type": "markdown",
   "id": "2e254cc5-84c3-48a7-b3b7-146456069f19",
   "metadata": {},
   "source": [
    "Some of the commonly used libraries used by Data Scientists include:"
   ]
  },
  {
   "cell_type": "markdown",
   "id": "463171a1-969e-410b-8c6e-0657d4dd7d37",
   "metadata": {},
   "source": [
    "1.NumPy\n",
    "\n",
    "2.Pandas\n",
    "\n",
    "3.TensorFlow\n",
    "\n",
    "4.PyTorch\n",
    "\n",
    "5.Plotly\n",
    "\n",
    "6.Scikit-learn\n"
   ]
  },
  {
   "cell_type": "markdown",
   "id": "6e8ea230-7e4d-40d7-8871-622885f6ad2c",
   "metadata": {},
   "source": [
    "|Data Science Tools|\n",
    "|------------------|\n",
    "|Jupyter Notebook/Lab|\n",
    "|RStudio|\n",
    "|IBM watson Studio|\n",
    "|Apache Hadoop|\n"
   ]
  },
  {
   "cell_type": "markdown",
   "id": "46835c9e-a20e-45a7-a55e-5ecb9f1d0f86",
   "metadata": {},
   "source": [
    "### Below are a few examples of evaluating arithmetic expressions in Python"
   ]
  },
  {
   "cell_type": "code",
   "execution_count": 1,
   "id": "08d2fdda-d045-49b8-a179-815832ec38a5",
   "metadata": {},
   "outputs": [
    {
     "data": {
      "text/plain": [
       "17"
      ]
     },
     "execution_count": 1,
     "metadata": {},
     "output_type": "execute_result"
    }
   ],
   "source": [
    "# This a simple arithmetic expression to multiply then add integers\n",
    "(3*4)+5"
   ]
  },
  {
   "cell_type": "code",
   "execution_count": 6,
   "id": "c26b7509-c0c4-45d5-bb97-ba9f12bee833",
   "metadata": {},
   "outputs": [
    {
     "name": "stdout",
     "output_type": "stream",
     "text": [
      "Hours: 3.3333333333333335\n"
     ]
    }
   ],
   "source": [
    "# This will convert 200 minutes to hours by diving by 60\n",
    "minutes = 200\n",
    "hours = minutes/60\n",
    "print(\"Hours:\",hours)"
   ]
  },
  {
   "cell_type": "markdown",
   "id": "491ed25a-0a12-46ac-9005-928ddb12da2b",
   "metadata": {},
   "source": [
    "## Author\n",
    "Pushkar Pradhan Pardikar"
   ]
  },
  {
   "cell_type": "code",
   "execution_count": null,
   "id": "37aadbdd-f038-42b9-96cb-11371a430ab9",
   "metadata": {},
   "outputs": [],
   "source": []
  }
 ],
 "metadata": {
  "kernelspec": {
   "display_name": "Python 3 (ipykernel)",
   "language": "python",
   "name": "python3"
  },
  "language_info": {
   "codemirror_mode": {
    "name": "ipython",
    "version": 3
   },
   "file_extension": ".py",
   "mimetype": "text/x-python",
   "name": "python",
   "nbconvert_exporter": "python",
   "pygments_lexer": "ipython3",
   "version": "3.12.8"
  }
 },
 "nbformat": 4,
 "nbformat_minor": 5
}
